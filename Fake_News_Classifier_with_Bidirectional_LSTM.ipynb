{
  "nbformat": 4,
  "nbformat_minor": 0,
  "metadata": {
    "colab": {
      "name": "Fake News Classifier with Bidirectional LSTM.ipynb",
      "provenance": [],
      "mount_file_id": "1FE9ekVW5musZQfwK9daKE-MPClPeuRCo",
      "authorship_tag": "ABX9TyNnfMiALu/G1d66y0NTBFcM",
      "include_colab_link": true
    },
    "kernelspec": {
      "name": "python3",
      "display_name": "Python 3"
    },
    "accelerator": "GPU"
  },
  "cells": [
    {
      "cell_type": "markdown",
      "metadata": {
        "id": "view-in-github",
        "colab_type": "text"
      },
      "source": [
        "<a href=\"https://colab.research.google.com/github/ankitdv98/Fake-News-Classifier/blob/main/Fake_News_Classifier_with_Bidirectional_LSTM.ipynb\" target=\"_parent\"><img src=\"https://colab.research.google.com/assets/colab-badge.svg\" alt=\"Open In Colab\"/></a>"
      ]
    },
    {
      "cell_type": "code",
      "metadata": {
        "colab": {
          "base_uri": "https://localhost:8080/"
        },
        "id": "vDKABG_zJvLW",
        "outputId": "25977f98-b8cd-4027-f6dc-f98dcd38e590"
      },
      "source": [
        "!ls"
      ],
      "execution_count": 28,
      "outputs": [
        {
          "output_type": "stream",
          "text": [
            " appdata10.csv\t\t       ipl_data\t\t\t   test.csv\n",
            " car_brand_model_resnet50.h5   kaggle.json\t\t   test.csv.zip\n",
            " creditcardfraud.zip\t       lasso_regressor.pickle\t   top_screens.csv\n",
            " final_submit.csv\t      'Movie Sentiment Analysis'   train.csv\n",
            " flight_rf.pkl\t\t       submit.csv\t\t   train.csv.zip\n"
          ],
          "name": "stdout"
        }
      ]
    },
    {
      "cell_type": "code",
      "metadata": {
        "colab": {
          "base_uri": "https://localhost:8080/"
        },
        "id": "4jyrf8KRJ9mV",
        "outputId": "5aa0f896-166e-487e-feb2-9950125a1ff7"
      },
      "source": [
        "%cd /content/drive/MyDrive/Kaggle"
      ],
      "execution_count": 29,
      "outputs": [
        {
          "output_type": "stream",
          "text": [
            "/content/drive/MyDrive/Kaggle\n"
          ],
          "name": "stdout"
        }
      ]
    },
    {
      "cell_type": "code",
      "metadata": {
        "id": "up_p-G0ZKGO1"
      },
      "source": [
        "import numpy as np\r\n",
        "import pandas as pd\r\n",
        "import matplotlib.pyplot as plt"
      ],
      "execution_count": 30,
      "outputs": []
    },
    {
      "cell_type": "code",
      "metadata": {
        "id": "1fa1E_4-KAk1"
      },
      "source": [
        "df= pd.read_csv('train.csv')"
      ],
      "execution_count": 31,
      "outputs": []
    },
    {
      "cell_type": "code",
      "metadata": {
        "colab": {
          "base_uri": "https://localhost:8080/",
          "height": 206
        },
        "id": "gtvdWvmhKEjV",
        "outputId": "194ae188-a862-4fbe-d61a-0668c4862e61"
      },
      "source": [
        "df.head()"
      ],
      "execution_count": 32,
      "outputs": [
        {
          "output_type": "execute_result",
          "data": {
            "text/html": [
              "<div>\n",
              "<style scoped>\n",
              "    .dataframe tbody tr th:only-of-type {\n",
              "        vertical-align: middle;\n",
              "    }\n",
              "\n",
              "    .dataframe tbody tr th {\n",
              "        vertical-align: top;\n",
              "    }\n",
              "\n",
              "    .dataframe thead th {\n",
              "        text-align: right;\n",
              "    }\n",
              "</style>\n",
              "<table border=\"1\" class=\"dataframe\">\n",
              "  <thead>\n",
              "    <tr style=\"text-align: right;\">\n",
              "      <th></th>\n",
              "      <th>id</th>\n",
              "      <th>title</th>\n",
              "      <th>author</th>\n",
              "      <th>text</th>\n",
              "      <th>label</th>\n",
              "    </tr>\n",
              "  </thead>\n",
              "  <tbody>\n",
              "    <tr>\n",
              "      <th>0</th>\n",
              "      <td>0</td>\n",
              "      <td>House Dem Aide: We Didn’t Even See Comey’s Let...</td>\n",
              "      <td>Darrell Lucus</td>\n",
              "      <td>House Dem Aide: We Didn’t Even See Comey’s Let...</td>\n",
              "      <td>1</td>\n",
              "    </tr>\n",
              "    <tr>\n",
              "      <th>1</th>\n",
              "      <td>1</td>\n",
              "      <td>FLYNN: Hillary Clinton, Big Woman on Campus - ...</td>\n",
              "      <td>Daniel J. Flynn</td>\n",
              "      <td>Ever get the feeling your life circles the rou...</td>\n",
              "      <td>0</td>\n",
              "    </tr>\n",
              "    <tr>\n",
              "      <th>2</th>\n",
              "      <td>2</td>\n",
              "      <td>Why the Truth Might Get You Fired</td>\n",
              "      <td>Consortiumnews.com</td>\n",
              "      <td>Why the Truth Might Get You Fired October 29, ...</td>\n",
              "      <td>1</td>\n",
              "    </tr>\n",
              "    <tr>\n",
              "      <th>3</th>\n",
              "      <td>3</td>\n",
              "      <td>15 Civilians Killed In Single US Airstrike Hav...</td>\n",
              "      <td>Jessica Purkiss</td>\n",
              "      <td>Videos 15 Civilians Killed In Single US Airstr...</td>\n",
              "      <td>1</td>\n",
              "    </tr>\n",
              "    <tr>\n",
              "      <th>4</th>\n",
              "      <td>4</td>\n",
              "      <td>Iranian woman jailed for fictional unpublished...</td>\n",
              "      <td>Howard Portnoy</td>\n",
              "      <td>Print \\nAn Iranian woman has been sentenced to...</td>\n",
              "      <td>1</td>\n",
              "    </tr>\n",
              "  </tbody>\n",
              "</table>\n",
              "</div>"
            ],
            "text/plain": [
              "   id  ... label\n",
              "0   0  ...     1\n",
              "1   1  ...     0\n",
              "2   2  ...     1\n",
              "3   3  ...     1\n",
              "4   4  ...     1\n",
              "\n",
              "[5 rows x 5 columns]"
            ]
          },
          "metadata": {
            "tags": []
          },
          "execution_count": 32
        }
      ]
    },
    {
      "cell_type": "code",
      "metadata": {
        "colab": {
          "base_uri": "https://localhost:8080/"
        },
        "id": "nZ65OhEUKLPY",
        "outputId": "7f2d5e05-95e1-4f79-ef36-a46efe598c4d"
      },
      "source": [
        "df.shape"
      ],
      "execution_count": 33,
      "outputs": [
        {
          "output_type": "execute_result",
          "data": {
            "text/plain": [
              "(20800, 5)"
            ]
          },
          "metadata": {
            "tags": []
          },
          "execution_count": 33
        }
      ]
    },
    {
      "cell_type": "code",
      "metadata": {
        "colab": {
          "base_uri": "https://localhost:8080/"
        },
        "id": "k6EnungDKL3I",
        "outputId": "12a1ee1c-b45e-42f2-b8fb-982afbdfd9db"
      },
      "source": [
        "df.isnull().sum()"
      ],
      "execution_count": 34,
      "outputs": [
        {
          "output_type": "execute_result",
          "data": {
            "text/plain": [
              "id           0\n",
              "title      558\n",
              "author    1957\n",
              "text        39\n",
              "label        0\n",
              "dtype: int64"
            ]
          },
          "metadata": {
            "tags": []
          },
          "execution_count": 34
        }
      ]
    },
    {
      "cell_type": "code",
      "metadata": {
        "id": "rFNw5PVaKL6S"
      },
      "source": [
        "df.drop('author', axis= 1, inplace= True)"
      ],
      "execution_count": 35,
      "outputs": []
    },
    {
      "cell_type": "code",
      "metadata": {
        "id": "gYikpQWoKaL7"
      },
      "source": [
        "df.dropna(inplace= True)\r\n",
        "df.reset_index(inplace= True)"
      ],
      "execution_count": 36,
      "outputs": []
    },
    {
      "cell_type": "code",
      "metadata": {
        "colab": {
          "base_uri": "https://localhost:8080/"
        },
        "id": "kyec3X0_KioC",
        "outputId": "9d72cbae-c62a-42a8-d545-a01da2853d42"
      },
      "source": [
        "df.shape"
      ],
      "execution_count": 37,
      "outputs": [
        {
          "output_type": "execute_result",
          "data": {
            "text/plain": [
              "(20203, 5)"
            ]
          },
          "metadata": {
            "tags": []
          },
          "execution_count": 37
        }
      ]
    },
    {
      "cell_type": "code",
      "metadata": {
        "colab": {
          "base_uri": "https://localhost:8080/"
        },
        "id": "9BeEOiwhKjhq",
        "outputId": "65292e8e-5358-4abc-9063-6c1d807408ba"
      },
      "source": [
        "import nltk\r\n",
        "nltk.download('popular')\r\n",
        "import re\r\n"
      ],
      "execution_count": 38,
      "outputs": [
        {
          "output_type": "stream",
          "text": [
            "[nltk_data] Downloading collection 'popular'\n",
            "[nltk_data]    | \n",
            "[nltk_data]    | Downloading package cmudict to /root/nltk_data...\n",
            "[nltk_data]    |   Package cmudict is already up-to-date!\n",
            "[nltk_data]    | Downloading package gazetteers to /root/nltk_data...\n",
            "[nltk_data]    |   Package gazetteers is already up-to-date!\n",
            "[nltk_data]    | Downloading package genesis to /root/nltk_data...\n",
            "[nltk_data]    |   Package genesis is already up-to-date!\n",
            "[nltk_data]    | Downloading package gutenberg to /root/nltk_data...\n",
            "[nltk_data]    |   Package gutenberg is already up-to-date!\n",
            "[nltk_data]    | Downloading package inaugural to /root/nltk_data...\n",
            "[nltk_data]    |   Package inaugural is already up-to-date!\n",
            "[nltk_data]    | Downloading package movie_reviews to\n",
            "[nltk_data]    |     /root/nltk_data...\n",
            "[nltk_data]    |   Package movie_reviews is already up-to-date!\n",
            "[nltk_data]    | Downloading package names to /root/nltk_data...\n",
            "[nltk_data]    |   Package names is already up-to-date!\n",
            "[nltk_data]    | Downloading package shakespeare to /root/nltk_data...\n",
            "[nltk_data]    |   Package shakespeare is already up-to-date!\n",
            "[nltk_data]    | Downloading package stopwords to /root/nltk_data...\n",
            "[nltk_data]    |   Package stopwords is already up-to-date!\n",
            "[nltk_data]    | Downloading package treebank to /root/nltk_data...\n",
            "[nltk_data]    |   Package treebank is already up-to-date!\n",
            "[nltk_data]    | Downloading package twitter_samples to\n",
            "[nltk_data]    |     /root/nltk_data...\n",
            "[nltk_data]    |   Package twitter_samples is already up-to-date!\n",
            "[nltk_data]    | Downloading package omw to /root/nltk_data...\n",
            "[nltk_data]    |   Package omw is already up-to-date!\n",
            "[nltk_data]    | Downloading package wordnet to /root/nltk_data...\n",
            "[nltk_data]    |   Package wordnet is already up-to-date!\n",
            "[nltk_data]    | Downloading package wordnet_ic to /root/nltk_data...\n",
            "[nltk_data]    |   Package wordnet_ic is already up-to-date!\n",
            "[nltk_data]    | Downloading package words to /root/nltk_data...\n",
            "[nltk_data]    |   Package words is already up-to-date!\n",
            "[nltk_data]    | Downloading package maxent_ne_chunker to\n",
            "[nltk_data]    |     /root/nltk_data...\n",
            "[nltk_data]    |   Package maxent_ne_chunker is already up-to-date!\n",
            "[nltk_data]    | Downloading package punkt to /root/nltk_data...\n",
            "[nltk_data]    |   Package punkt is already up-to-date!\n",
            "[nltk_data]    | Downloading package snowball_data to\n",
            "[nltk_data]    |     /root/nltk_data...\n",
            "[nltk_data]    |   Package snowball_data is already up-to-date!\n",
            "[nltk_data]    | Downloading package averaged_perceptron_tagger to\n",
            "[nltk_data]    |     /root/nltk_data...\n",
            "[nltk_data]    |   Package averaged_perceptron_tagger is already up-\n",
            "[nltk_data]    |       to-date!\n",
            "[nltk_data]    | \n",
            "[nltk_data]  Done downloading collection popular\n"
          ],
          "name": "stdout"
        }
      ]
    },
    {
      "cell_type": "code",
      "metadata": {
        "id": "-tI0mjlEK2jN"
      },
      "source": [
        "y= df['label']"
      ],
      "execution_count": 39,
      "outputs": []
    },
    {
      "cell_type": "code",
      "metadata": {
        "id": "fy3CvjmCLecg"
      },
      "source": [
        "import re\r\n",
        "from nltk.stem.porter import PorterStemmer\r\n",
        "from nltk.corpus import stopwords\r\n",
        "ps= PorterStemmer()\r\n",
        "corpus= []\r\n",
        "for i in range(len(df)):\r\n",
        "  text= re.sub('[^a-zA-Z]', ' ', df.loc[i, 'title'])\r\n",
        "  text= text.lower()\r\n",
        "  text= text.split()\r\n",
        "  words= [ps.stem(word) for word in text if not word in set(stopwords.words('english'))]\r\n",
        "  sent= \" \".join(words)\r\n",
        "  corpus.append(sent)"
      ],
      "execution_count": 40,
      "outputs": []
    },
    {
      "cell_type": "code",
      "metadata": {
        "id": "p6YS39dUMrdN",
        "colab": {
          "base_uri": "https://localhost:8080/"
        },
        "outputId": "8a72cf57-cb58-436a-d815-9b1133ad7f98"
      },
      "source": [
        "corpus[0:5]"
      ],
      "execution_count": 41,
      "outputs": [
        {
          "output_type": "execute_result",
          "data": {
            "text/plain": [
              "['hous dem aid even see comey letter jason chaffetz tweet',\n",
              " 'flynn hillari clinton big woman campu breitbart',\n",
              " 'truth might get fire',\n",
              " 'civilian kill singl us airstrik identifi',\n",
              " 'iranian woman jail fiction unpublish stori woman stone death adulteri']"
            ]
          },
          "metadata": {
            "tags": []
          },
          "execution_count": 41
        }
      ]
    },
    {
      "cell_type": "code",
      "metadata": {
        "id": "z6MJ6S51P-ZG"
      },
      "source": [
        "import tensorflow as tf\r\n",
        "from tensorflow.keras.layers import Embedding\r\n",
        "from tensorflow.keras.preprocessing.sequence import pad_sequences\r\n",
        "from tensorflow.keras.models import Sequential\r\n",
        "from tensorflow.keras.preprocessing.text import one_hot\r\n",
        "from tensorflow.keras.layers import LSTM\r\n",
        "from tensorflow.keras.layers import Dense\r\n",
        "from tensorflow.keras.layers import Bidirectional\r\n",
        "from tensorflow.keras.layers import Dropout"
      ],
      "execution_count": 42,
      "outputs": []
    },
    {
      "cell_type": "code",
      "metadata": {
        "colab": {
          "base_uri": "https://localhost:8080/"
        },
        "id": "nMjzJ1LTQGg5",
        "outputId": "232ba029-0a86-4a53-b3f6-fe535f2fc782"
      },
      "source": [
        "voc_size= 20000\r\n",
        "onehot_repr= [one_hot(words, voc_size) for words in corpus]\r\n",
        "onehot_repr[0:5]"
      ],
      "execution_count": 44,
      "outputs": [
        {
          "output_type": "execute_result",
          "data": {
            "text/plain": [
              "[[8244, 7679, 10280, 11355, 18256, 1233, 14344, 17692, 9476, 4267],\n",
              " [2106, 14844, 13146, 16196, 1664, 17469, 14412],\n",
              " [264, 9409, 13690, 1527],\n",
              " [7695, 8448, 4326, 2913, 16103, 1485],\n",
              " [18594, 1664, 16696, 8502, 10911, 3362, 1664, 694, 19691, 11151]]"
            ]
          },
          "metadata": {
            "tags": []
          },
          "execution_count": 44
        }
      ]
    },
    {
      "cell_type": "markdown",
      "metadata": {
        "id": "7uhothhJQ4MP"
      },
      "source": [
        "#Embedding Representation"
      ]
    },
    {
      "cell_type": "code",
      "metadata": {
        "colab": {
          "base_uri": "https://localhost:8080/"
        },
        "id": "PhkAM_tWQuQD",
        "outputId": "4a2bdfaf-a85c-4480-f351-a64310c334fc"
      },
      "source": [
        "sent_length= 20\r\n",
        "embed_doc= pad_sequences(onehot_repr, maxlen= sent_length, padding= 'pre')\r\n",
        "embed_doc[0:5]"
      ],
      "execution_count": 47,
      "outputs": [
        {
          "output_type": "execute_result",
          "data": {
            "text/plain": [
              "array([[    0,     0,     0,     0,     0,     0,     0,     0,     0,\n",
              "            0,  8244,  7679, 10280, 11355, 18256,  1233, 14344, 17692,\n",
              "         9476,  4267],\n",
              "       [    0,     0,     0,     0,     0,     0,     0,     0,     0,\n",
              "            0,     0,     0,     0,  2106, 14844, 13146, 16196,  1664,\n",
              "        17469, 14412],\n",
              "       [    0,     0,     0,     0,     0,     0,     0,     0,     0,\n",
              "            0,     0,     0,     0,     0,     0,     0,   264,  9409,\n",
              "        13690,  1527],\n",
              "       [    0,     0,     0,     0,     0,     0,     0,     0,     0,\n",
              "            0,     0,     0,     0,     0,  7695,  8448,  4326,  2913,\n",
              "        16103,  1485],\n",
              "       [    0,     0,     0,     0,     0,     0,     0,     0,     0,\n",
              "            0, 18594,  1664, 16696,  8502, 10911,  3362,  1664,   694,\n",
              "        19691, 11151]], dtype=int32)"
            ]
          },
          "metadata": {
            "tags": []
          },
          "execution_count": 47
        }
      ]
    },
    {
      "cell_type": "code",
      "metadata": {
        "colab": {
          "base_uri": "https://localhost:8080/"
        },
        "id": "bM4ZQghjRbwT",
        "outputId": "e79e7395-bc4b-48f5-8396-7cc8f3b11d0d"
      },
      "source": [
        "embed_doc[0]"
      ],
      "execution_count": 48,
      "outputs": [
        {
          "output_type": "execute_result",
          "data": {
            "text/plain": [
              "array([    0,     0,     0,     0,     0,     0,     0,     0,     0,\n",
              "           0,  8244,  7679, 10280, 11355, 18256,  1233, 14344, 17692,\n",
              "        9476,  4267], dtype=int32)"
            ]
          },
          "metadata": {
            "tags": []
          },
          "execution_count": 48
        }
      ]
    },
    {
      "cell_type": "code",
      "metadata": {
        "id": "ArhHVFGERjF9"
      },
      "source": [
        "import numpy as np\r\n",
        "X=np.array(embed_doc)\r\n",
        "y=np.array(y)"
      ],
      "execution_count": 50,
      "outputs": []
    },
    {
      "cell_type": "code",
      "metadata": {
        "id": "7Tib96MoRt3U"
      },
      "source": [
        "from sklearn.model_selection import train_test_split\r\n",
        "X_train, X_test, y_train, y_test= train_test_split(X, y, test_size= 0.2, random_state= 1)"
      ],
      "execution_count": 51,
      "outputs": []
    },
    {
      "cell_type": "code",
      "metadata": {
        "colab": {
          "base_uri": "https://localhost:8080/"
        },
        "id": "Glz1_zsRR-OD",
        "outputId": "c5385330-c401-4a90-c372-bacdda3b8dd3"
      },
      "source": [
        "X_train.shape, y_train.shape"
      ],
      "execution_count": 52,
      "outputs": [
        {
          "output_type": "execute_result",
          "data": {
            "text/plain": [
              "((16162, 20), (16162,))"
            ]
          },
          "metadata": {
            "tags": []
          },
          "execution_count": 52
        }
      ]
    },
    {
      "cell_type": "markdown",
      "metadata": {
        "id": "3O_GGYAXSIY7"
      },
      "source": [
        "# Bidirectional LSTM Model"
      ]
    },
    {
      "cell_type": "code",
      "metadata": {
        "colab": {
          "base_uri": "https://localhost:8080/"
        },
        "id": "KlvyL-2CSA-w",
        "outputId": "6400f37a-1d29-4380-b82b-7432a4ab8f51"
      },
      "source": [
        "feature_dim= 100\r\n",
        "model= Sequential()\r\n",
        "model.add(Embedding(voc_size, feature_dim, input_length= sent_length))\r\n",
        "model.add(Bidirectional(LSTM(100)))\r\n",
        "model.add(Dropout(0.3))\r\n",
        "model.add(Dense(1, activation= 'sigmoid'))\r\n",
        "model.compile(optimizer= 'adam', loss= 'binary_crossentropy', metrics= ['accuracy'])\r\n",
        "model.summary()"
      ],
      "execution_count": 81,
      "outputs": [
        {
          "output_type": "stream",
          "text": [
            "Model: \"sequential_2\"\n",
            "_________________________________________________________________\n",
            "Layer (type)                 Output Shape              Param #   \n",
            "=================================================================\n",
            "embedding_2 (Embedding)      (None, 20, 100)           2000000   \n",
            "_________________________________________________________________\n",
            "bidirectional_2 (Bidirection (None, 200)               160800    \n",
            "_________________________________________________________________\n",
            "dropout (Dropout)            (None, 200)               0         \n",
            "_________________________________________________________________\n",
            "dense_1 (Dense)              (None, 1)                 201       \n",
            "=================================================================\n",
            "Total params: 2,161,001\n",
            "Trainable params: 2,161,001\n",
            "Non-trainable params: 0\n",
            "_________________________________________________________________\n"
          ],
          "name": "stdout"
        }
      ]
    },
    {
      "cell_type": "code",
      "metadata": {
        "colab": {
          "base_uri": "https://localhost:8080/"
        },
        "id": "mhK5xxysTXPO",
        "outputId": "27f91883-ba1a-45d5-ba3f-9f3b4f0c49fb"
      },
      "source": [
        "model.fit(X_train, y_train, validation_data= (X_test, y_test), epochs= 10, batch_size= 64)"
      ],
      "execution_count": 82,
      "outputs": [
        {
          "output_type": "stream",
          "text": [
            "Epoch 1/10\n",
            "253/253 [==============================] - 9s 26ms/step - loss: 0.3827 - accuracy: 0.8044 - val_loss: 0.1858 - val_accuracy: 0.9312\n",
            "Epoch 2/10\n",
            "253/253 [==============================] - 6s 23ms/step - loss: 0.1094 - accuracy: 0.9590 - val_loss: 0.1566 - val_accuracy: 0.9394\n",
            "Epoch 3/10\n",
            "253/253 [==============================] - 6s 23ms/step - loss: 0.0561 - accuracy: 0.9797 - val_loss: 0.1765 - val_accuracy: 0.9379\n",
            "Epoch 4/10\n",
            "253/253 [==============================] - 6s 23ms/step - loss: 0.0360 - accuracy: 0.9889 - val_loss: 0.2526 - val_accuracy: 0.9379\n",
            "Epoch 5/10\n",
            "253/253 [==============================] - 6s 23ms/step - loss: 0.0206 - accuracy: 0.9934 - val_loss: 0.2845 - val_accuracy: 0.9287\n",
            "Epoch 6/10\n",
            "253/253 [==============================] - 6s 23ms/step - loss: 0.0154 - accuracy: 0.9952 - val_loss: 0.3142 - val_accuracy: 0.9312\n",
            "Epoch 7/10\n",
            "253/253 [==============================] - 6s 23ms/step - loss: 0.0083 - accuracy: 0.9981 - val_loss: 0.3317 - val_accuracy: 0.9292\n",
            "Epoch 8/10\n",
            "253/253 [==============================] - 6s 23ms/step - loss: 0.0074 - accuracy: 0.9978 - val_loss: 0.3696 - val_accuracy: 0.9310\n",
            "Epoch 9/10\n",
            "253/253 [==============================] - 6s 24ms/step - loss: 0.0039 - accuracy: 0.9989 - val_loss: 0.3693 - val_accuracy: 0.9317\n",
            "Epoch 10/10\n",
            "253/253 [==============================] - 6s 24ms/step - loss: 0.0082 - accuracy: 0.9979 - val_loss: 0.3614 - val_accuracy: 0.9285\n"
          ],
          "name": "stdout"
        },
        {
          "output_type": "execute_result",
          "data": {
            "text/plain": [
              "<tensorflow.python.keras.callbacks.History at 0x7f27869dc978>"
            ]
          },
          "metadata": {
            "tags": []
          },
          "execution_count": 82
        }
      ]
    },
    {
      "cell_type": "code",
      "metadata": {
        "id": "ee8-mBoATuYb"
      },
      "source": [
        ""
      ],
      "execution_count": 82,
      "outputs": []
    },
    {
      "cell_type": "markdown",
      "metadata": {
        "id": "HK7FLwDBTvlP"
      },
      "source": [
        "# Performance Metrics"
      ]
    },
    {
      "cell_type": "code",
      "metadata": {
        "id": "72Ea7D_2Tyml"
      },
      "source": [
        "from sklearn.metrics import confusion_matrix, classification_report, accuracy_score"
      ],
      "execution_count": 83,
      "outputs": []
    },
    {
      "cell_type": "code",
      "metadata": {
        "colab": {
          "base_uri": "https://localhost:8080/"
        },
        "id": "yrShf_ANUHVW",
        "outputId": "8969fb2a-bcfb-46f4-d1c4-97665d9dafb4"
      },
      "source": [
        "pred= (model.predict(X_test) > 0.5).astype(\"int32\")\r\n",
        "score= accuracy_score(y_test, pred)\r\n",
        "print(\"accuracy score: \", score)\r\n",
        "cm= confusion_matrix(y_test, pred)\r\n",
        "print(cm)"
      ],
      "execution_count": 84,
      "outputs": [
        {
          "output_type": "stream",
          "text": [
            "accuracy score:  0.9284830487503093\n",
            "[[1934  154]\n",
            " [ 135 1818]]\n"
          ],
          "name": "stdout"
        }
      ]
    },
    {
      "cell_type": "code",
      "metadata": {
        "colab": {
          "base_uri": "https://localhost:8080/"
        },
        "id": "L7xKPgS2U2bW",
        "outputId": "310235c1-8230-4aa3-9d07-d6287dd37529"
      },
      "source": [
        "print(classification_report(y_test, pred))"
      ],
      "execution_count": 85,
      "outputs": [
        {
          "output_type": "stream",
          "text": [
            "              precision    recall  f1-score   support\n",
            "\n",
            "           0       0.93      0.93      0.93      2088\n",
            "           1       0.92      0.93      0.93      1953\n",
            "\n",
            "    accuracy                           0.93      4041\n",
            "   macro avg       0.93      0.93      0.93      4041\n",
            "weighted avg       0.93      0.93      0.93      4041\n",
            "\n"
          ],
          "name": "stdout"
        }
      ]
    },
    {
      "cell_type": "code",
      "metadata": {
        "id": "FJNA-vyfWsTv"
      },
      "source": [
        ""
      ],
      "execution_count": 85,
      "outputs": []
    },
    {
      "cell_type": "markdown",
      "metadata": {
        "id": "JN4llVWEXH0x"
      },
      "source": [
        "# Improving Model\r\n",
        "Adding more dense layer"
      ]
    },
    {
      "cell_type": "code",
      "metadata": {
        "colab": {
          "base_uri": "https://localhost:8080/"
        },
        "id": "NfkaVeyxXH02",
        "outputId": "10e49cfa-5b13-4531-9513-96996312f8a3"
      },
      "source": [
        "feature_dim= 100\r\n",
        "model= Sequential()\r\n",
        "model.add(Embedding(voc_size, feature_dim, input_length= sent_length))\r\n",
        "model.add(Bidirectional(LSTM(100)))\r\n",
        "model.add(Dropout(0.3))\r\n",
        "model.add(Dense(100, activation= 'relu'))\r\n",
        "model.add(Dropout(0.3))\r\n",
        "model.add(Dense(1, activation= 'sigmoid'))\r\n",
        "model.compile(optimizer= 'adam', loss= 'binary_crossentropy', metrics= ['accuracy'])\r\n",
        "model.summary()"
      ],
      "execution_count": 86,
      "outputs": [
        {
          "output_type": "stream",
          "text": [
            "Model: \"sequential_3\"\n",
            "_________________________________________________________________\n",
            "Layer (type)                 Output Shape              Param #   \n",
            "=================================================================\n",
            "embedding_3 (Embedding)      (None, 20, 100)           2000000   \n",
            "_________________________________________________________________\n",
            "bidirectional_3 (Bidirection (None, 200)               160800    \n",
            "_________________________________________________________________\n",
            "dropout_1 (Dropout)          (None, 200)               0         \n",
            "_________________________________________________________________\n",
            "dense_2 (Dense)              (None, 100)               20100     \n",
            "_________________________________________________________________\n",
            "dropout_2 (Dropout)          (None, 100)               0         \n",
            "_________________________________________________________________\n",
            "dense_3 (Dense)              (None, 1)                 101       \n",
            "=================================================================\n",
            "Total params: 2,181,001\n",
            "Trainable params: 2,181,001\n",
            "Non-trainable params: 0\n",
            "_________________________________________________________________\n"
          ],
          "name": "stdout"
        }
      ]
    },
    {
      "cell_type": "code",
      "metadata": {
        "colab": {
          "base_uri": "https://localhost:8080/"
        },
        "id": "RZqjLCd6XH04",
        "outputId": "6dd2911b-dc63-4e0e-ba10-e5fc55c42290"
      },
      "source": [
        "model.fit(X_train, y_train, validation_data= (X_test, y_test), epochs= 10, batch_size= 64)"
      ],
      "execution_count": 87,
      "outputs": [
        {
          "output_type": "stream",
          "text": [
            "Epoch 1/10\n",
            "253/253 [==============================] - 9s 26ms/step - loss: 0.3798 - accuracy: 0.8166 - val_loss: 0.1582 - val_accuracy: 0.9339\n",
            "Epoch 2/10\n",
            "253/253 [==============================] - 6s 23ms/step - loss: 0.1046 - accuracy: 0.9615 - val_loss: 0.1603 - val_accuracy: 0.9342\n",
            "Epoch 3/10\n",
            "253/253 [==============================] - 6s 23ms/step - loss: 0.0643 - accuracy: 0.9773 - val_loss: 0.1792 - val_accuracy: 0.9344\n",
            "Epoch 4/10\n",
            "253/253 [==============================] - 6s 24ms/step - loss: 0.0342 - accuracy: 0.9892 - val_loss: 0.2304 - val_accuracy: 0.9334\n",
            "Epoch 5/10\n",
            "253/253 [==============================] - 6s 23ms/step - loss: 0.0196 - accuracy: 0.9943 - val_loss: 0.3077 - val_accuracy: 0.9324\n",
            "Epoch 6/10\n",
            "253/253 [==============================] - 6s 23ms/step - loss: 0.0135 - accuracy: 0.9961 - val_loss: 0.3831 - val_accuracy: 0.9290\n",
            "Epoch 7/10\n",
            "253/253 [==============================] - 6s 23ms/step - loss: 0.0071 - accuracy: 0.9977 - val_loss: 0.3394 - val_accuracy: 0.9282\n",
            "Epoch 8/10\n",
            "253/253 [==============================] - 6s 23ms/step - loss: 0.0040 - accuracy: 0.9991 - val_loss: 0.4059 - val_accuracy: 0.9287\n",
            "Epoch 9/10\n",
            "253/253 [==============================] - 6s 23ms/step - loss: 0.0034 - accuracy: 0.9992 - val_loss: 0.4858 - val_accuracy: 0.9213\n",
            "Epoch 10/10\n",
            "253/253 [==============================] - 6s 23ms/step - loss: 0.0035 - accuracy: 0.9986 - val_loss: 0.4281 - val_accuracy: 0.9290\n"
          ],
          "name": "stdout"
        },
        {
          "output_type": "execute_result",
          "data": {
            "text/plain": [
              "<tensorflow.python.keras.callbacks.History at 0x7f2786073668>"
            ]
          },
          "metadata": {
            "tags": []
          },
          "execution_count": 87
        }
      ]
    },
    {
      "cell_type": "markdown",
      "metadata": {
        "id": "BOpukrHoXH06"
      },
      "source": [
        "# Performance Metrics"
      ]
    },
    {
      "cell_type": "code",
      "metadata": {
        "id": "hsEtexnyXH07"
      },
      "source": [
        "from sklearn.metrics import confusion_matrix, classification_report, accuracy_score"
      ],
      "execution_count": 88,
      "outputs": []
    },
    {
      "cell_type": "code",
      "metadata": {
        "colab": {
          "base_uri": "https://localhost:8080/"
        },
        "id": "dMPfDNtDXH08",
        "outputId": "668de474-d29a-4e0a-9d2f-a36554296542"
      },
      "source": [
        "pred= (model.predict(X_test) > 0.5).astype(\"int32\")\r\n",
        "score= accuracy_score(y_test, pred)\r\n",
        "print(\"accuracy score: \", score)\r\n",
        "cm= confusion_matrix(y_test, pred)\r\n",
        "print(cm)"
      ],
      "execution_count": 89,
      "outputs": [
        {
          "output_type": "stream",
          "text": [
            "accuracy score:  0.9289779757485771\n",
            "[[1935  153]\n",
            " [ 134 1819]]\n"
          ],
          "name": "stdout"
        }
      ]
    },
    {
      "cell_type": "code",
      "metadata": {
        "colab": {
          "base_uri": "https://localhost:8080/"
        },
        "id": "ZH1NXIwvXH09",
        "outputId": "8f52dc94-7266-4014-bbd0-871f3e10d2d7"
      },
      "source": [
        "print(classification_report(y_test, pred))"
      ],
      "execution_count": 90,
      "outputs": [
        {
          "output_type": "stream",
          "text": [
            "              precision    recall  f1-score   support\n",
            "\n",
            "           0       0.94      0.93      0.93      2088\n",
            "           1       0.92      0.93      0.93      1953\n",
            "\n",
            "    accuracy                           0.93      4041\n",
            "   macro avg       0.93      0.93      0.93      4041\n",
            "weighted avg       0.93      0.93      0.93      4041\n",
            "\n"
          ],
          "name": "stdout"
        }
      ]
    },
    {
      "cell_type": "code",
      "metadata": {
        "id": "N0rZVbdlXH0-"
      },
      "source": [
        ""
      ],
      "execution_count": 90,
      "outputs": []
    }
  ]
}